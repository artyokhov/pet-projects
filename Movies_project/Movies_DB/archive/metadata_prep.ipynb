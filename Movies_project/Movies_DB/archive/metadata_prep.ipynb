{
 "cells": [
  {
   "cell_type": "code",
   "execution_count": 84,
   "metadata": {},
   "outputs": [
    {
     "name": "stdout",
     "output_type": "stream",
     "text": [
      "<class 'pandas.core.frame.DataFrame'>\n",
      "RangeIndex: 45463 entries, 0 to 45462\n",
      "Data columns (total 6 columns):\n",
      " #   Column                Non-Null Count  Dtype \n",
      "---  ------                --------------  ----- \n",
      " 0   budget                45463 non-null  int64 \n",
      " 1   genres                45463 non-null  object\n",
      " 2   imdb_id               45446 non-null  object\n",
      " 3   production_companies  45460 non-null  object\n",
      " 4   production_countries  45460 non-null  object\n",
      " 5   release_date          45376 non-null  object\n",
      "dtypes: int64(1), object(5)\n",
      "memory usage: 2.1+ MB\n"
     ]
    }
   ],
   "source": [
    "import numpy as np\n",
    "import pandas as pd\n",
    "import json\n",
    "import ast\n",
    "\n",
    "df = pd.read_csv('/Users/artemohotnikov/Documents/__code/__pet_projects/Movies_project/Movies_DB/archive/movies_metadata.csv', sep=',')\n",
    "\n",
    "df = df[['budget', 'genres', 'imdb_id', 'production_companies', 'production_countries', 'release_date']]\n",
    "df.info()"
   ]
  },
  {
   "cell_type": "code",
   "execution_count": 18,
   "metadata": {},
   "outputs": [
    {
     "data": {
      "text/html": [
       "<div>\n",
       "<style scoped>\n",
       "    .dataframe tbody tr th:only-of-type {\n",
       "        vertical-align: middle;\n",
       "    }\n",
       "\n",
       "    .dataframe tbody tr th {\n",
       "        vertical-align: top;\n",
       "    }\n",
       "\n",
       "    .dataframe thead th {\n",
       "        text-align: right;\n",
       "    }\n",
       "</style>\n",
       "<table border=\"1\" class=\"dataframe\">\n",
       "  <thead>\n",
       "    <tr style=\"text-align: right;\">\n",
       "      <th></th>\n",
       "      <th>budget</th>\n",
       "      <th>genres</th>\n",
       "      <th>imdb_id</th>\n",
       "      <th>production_companies</th>\n",
       "      <th>production_countries</th>\n",
       "      <th>release_date</th>\n",
       "    </tr>\n",
       "  </thead>\n",
       "  <tbody>\n",
       "    <tr>\n",
       "      <th>0</th>\n",
       "      <td>30000000</td>\n",
       "      <td>[{'id': 16, 'name': 'Animation'}, {'id': 35, '...</td>\n",
       "      <td>tt0114709</td>\n",
       "      <td>[{'name': 'Pixar Animation Studios', 'id': 3}]</td>\n",
       "      <td>[{'iso_3166_1': 'US', 'name': 'United States o...</td>\n",
       "      <td>30/10/1995</td>\n",
       "    </tr>\n",
       "    <tr>\n",
       "      <th>1</th>\n",
       "      <td>65000000</td>\n",
       "      <td>[{'id': 12, 'name': 'Adventure'}, {'id': 14, '...</td>\n",
       "      <td>tt0113497</td>\n",
       "      <td>[{'name': 'TriStar Pictures', 'id': 559}, {'na...</td>\n",
       "      <td>[{'iso_3166_1': 'US', 'name': 'United States o...</td>\n",
       "      <td>15/12/1995</td>\n",
       "    </tr>\n",
       "    <tr>\n",
       "      <th>2</th>\n",
       "      <td>0</td>\n",
       "      <td>[{'id': 10749, 'name': 'Romance'}, {'id': 35, ...</td>\n",
       "      <td>tt0113228</td>\n",
       "      <td>[{'name': 'Warner Bros.', 'id': 6194}, {'name'...</td>\n",
       "      <td>[{'iso_3166_1': 'US', 'name': 'United States o...</td>\n",
       "      <td>22/12/1995</td>\n",
       "    </tr>\n",
       "    <tr>\n",
       "      <th>3</th>\n",
       "      <td>16000000</td>\n",
       "      <td>[{'id': 35, 'name': 'Comedy'}, {'id': 18, 'nam...</td>\n",
       "      <td>tt0114885</td>\n",
       "      <td>[{'name': 'Twentieth Century Fox Film Corporat...</td>\n",
       "      <td>[{'iso_3166_1': 'US', 'name': 'United States o...</td>\n",
       "      <td>22/12/1995</td>\n",
       "    </tr>\n",
       "    <tr>\n",
       "      <th>4</th>\n",
       "      <td>0</td>\n",
       "      <td>[{'id': 35, 'name': 'Comedy'}]</td>\n",
       "      <td>tt0113041</td>\n",
       "      <td>[{'name': 'Sandollar Productions', 'id': 5842}...</td>\n",
       "      <td>[{'iso_3166_1': 'US', 'name': 'United States o...</td>\n",
       "      <td>10/02/1995</td>\n",
       "    </tr>\n",
       "    <tr>\n",
       "      <th>...</th>\n",
       "      <td>...</td>\n",
       "      <td>...</td>\n",
       "      <td>...</td>\n",
       "      <td>...</td>\n",
       "      <td>...</td>\n",
       "      <td>...</td>\n",
       "    </tr>\n",
       "    <tr>\n",
       "      <th>45458</th>\n",
       "      <td>0</td>\n",
       "      <td>[{'id': 18, 'name': 'Drama'}, {'id': 10751, 'n...</td>\n",
       "      <td>tt6209470</td>\n",
       "      <td>[]</td>\n",
       "      <td>[{'iso_3166_1': 'IR', 'name': 'Iran'}]</td>\n",
       "      <td>NaN</td>\n",
       "    </tr>\n",
       "    <tr>\n",
       "      <th>45459</th>\n",
       "      <td>0</td>\n",
       "      <td>[{'id': 18, 'name': 'Drama'}]</td>\n",
       "      <td>tt2028550</td>\n",
       "      <td>[{'name': 'Sine Olivia', 'id': 19653}]</td>\n",
       "      <td>[{'iso_3166_1': 'PH', 'name': 'Philippines'}]</td>\n",
       "      <td>17/11/2011</td>\n",
       "    </tr>\n",
       "    <tr>\n",
       "      <th>45460</th>\n",
       "      <td>0</td>\n",
       "      <td>[{'id': 28, 'name': 'Action'}, {'id': 18, 'nam...</td>\n",
       "      <td>tt0303758</td>\n",
       "      <td>[{'name': 'American World Pictures', 'id': 6165}]</td>\n",
       "      <td>[{'iso_3166_1': 'US', 'name': 'United States o...</td>\n",
       "      <td>01/08/2003</td>\n",
       "    </tr>\n",
       "    <tr>\n",
       "      <th>45461</th>\n",
       "      <td>0</td>\n",
       "      <td>[]</td>\n",
       "      <td>tt0008536</td>\n",
       "      <td>[{'name': 'Yermoliev', 'id': 88753}]</td>\n",
       "      <td>[{'iso_3166_1': 'RU', 'name': 'Russia'}]</td>\n",
       "      <td>21/10/1917</td>\n",
       "    </tr>\n",
       "    <tr>\n",
       "      <th>45462</th>\n",
       "      <td>0</td>\n",
       "      <td>[]</td>\n",
       "      <td>tt6980792</td>\n",
       "      <td>[]</td>\n",
       "      <td>[{'iso_3166_1': 'GB', 'name': 'United Kingdom'}]</td>\n",
       "      <td>09/06/2017</td>\n",
       "    </tr>\n",
       "  </tbody>\n",
       "</table>\n",
       "<p>45463 rows × 6 columns</p>\n",
       "</div>"
      ],
      "text/plain": [
       "         budget                                             genres    imdb_id  \\\n",
       "0      30000000  [{'id': 16, 'name': 'Animation'}, {'id': 35, '...  tt0114709   \n",
       "1      65000000  [{'id': 12, 'name': 'Adventure'}, {'id': 14, '...  tt0113497   \n",
       "2             0  [{'id': 10749, 'name': 'Romance'}, {'id': 35, ...  tt0113228   \n",
       "3      16000000  [{'id': 35, 'name': 'Comedy'}, {'id': 18, 'nam...  tt0114885   \n",
       "4             0                     [{'id': 35, 'name': 'Comedy'}]  tt0113041   \n",
       "...         ...                                                ...        ...   \n",
       "45458         0  [{'id': 18, 'name': 'Drama'}, {'id': 10751, 'n...  tt6209470   \n",
       "45459         0                      [{'id': 18, 'name': 'Drama'}]  tt2028550   \n",
       "45460         0  [{'id': 28, 'name': 'Action'}, {'id': 18, 'nam...  tt0303758   \n",
       "45461         0                                                 []  tt0008536   \n",
       "45462         0                                                 []  tt6980792   \n",
       "\n",
       "                                    production_companies  \\\n",
       "0         [{'name': 'Pixar Animation Studios', 'id': 3}]   \n",
       "1      [{'name': 'TriStar Pictures', 'id': 559}, {'na...   \n",
       "2      [{'name': 'Warner Bros.', 'id': 6194}, {'name'...   \n",
       "3      [{'name': 'Twentieth Century Fox Film Corporat...   \n",
       "4      [{'name': 'Sandollar Productions', 'id': 5842}...   \n",
       "...                                                  ...   \n",
       "45458                                                 []   \n",
       "45459             [{'name': 'Sine Olivia', 'id': 19653}]   \n",
       "45460  [{'name': 'American World Pictures', 'id': 6165}]   \n",
       "45461               [{'name': 'Yermoliev', 'id': 88753}]   \n",
       "45462                                                 []   \n",
       "\n",
       "                                    production_countries release_date  \n",
       "0      [{'iso_3166_1': 'US', 'name': 'United States o...   30/10/1995  \n",
       "1      [{'iso_3166_1': 'US', 'name': 'United States o...   15/12/1995  \n",
       "2      [{'iso_3166_1': 'US', 'name': 'United States o...   22/12/1995  \n",
       "3      [{'iso_3166_1': 'US', 'name': 'United States o...   22/12/1995  \n",
       "4      [{'iso_3166_1': 'US', 'name': 'United States o...   10/02/1995  \n",
       "...                                                  ...          ...  \n",
       "45458             [{'iso_3166_1': 'IR', 'name': 'Iran'}]          NaN  \n",
       "45459      [{'iso_3166_1': 'PH', 'name': 'Philippines'}]   17/11/2011  \n",
       "45460  [{'iso_3166_1': 'US', 'name': 'United States o...   01/08/2003  \n",
       "45461           [{'iso_3166_1': 'RU', 'name': 'Russia'}]   21/10/1917  \n",
       "45462   [{'iso_3166_1': 'GB', 'name': 'United Kingdom'}]   09/06/2017  \n",
       "\n",
       "[45463 rows x 6 columns]"
      ]
     },
     "execution_count": 18,
     "metadata": {},
     "output_type": "execute_result"
    }
   ],
   "source": [
    "df"
   ]
  },
  {
   "cell_type": "code",
   "execution_count": 33,
   "metadata": {},
   "outputs": [
    {
     "data": {
      "text/html": [
       "<div>\n",
       "<style scoped>\n",
       "    .dataframe tbody tr th:only-of-type {\n",
       "        vertical-align: middle;\n",
       "    }\n",
       "\n",
       "    .dataframe tbody tr th {\n",
       "        vertical-align: top;\n",
       "    }\n",
       "\n",
       "    .dataframe thead th {\n",
       "        text-align: right;\n",
       "    }\n",
       "</style>\n",
       "<table border=\"1\" class=\"dataframe\">\n",
       "  <thead>\n",
       "    <tr style=\"text-align: right;\">\n",
       "      <th></th>\n",
       "      <th>budget</th>\n",
       "      <th>genres</th>\n",
       "      <th>imdb_id</th>\n",
       "      <th>production_companies</th>\n",
       "      <th>production_countries</th>\n",
       "      <th>release_date</th>\n",
       "    </tr>\n",
       "  </thead>\n",
       "  <tbody>\n",
       "    <tr>\n",
       "      <th>0</th>\n",
       "      <td>30000000</td>\n",
       "      <td>[{\"\"id\"\": 16, \"\"name\"\": \"\"Animation\"\"}, {\"\"id\"...</td>\n",
       "      <td>tt0114709</td>\n",
       "      <td>[{\"\"name\"\": \"\"Pixar Animation Studios\"\", \"\"id\"...</td>\n",
       "      <td>[{\"\"iso_3166_1\"\": \"\"US\"\", \"\"name\"\": \"\"United S...</td>\n",
       "      <td>30/10/1995</td>\n",
       "    </tr>\n",
       "    <tr>\n",
       "      <th>1</th>\n",
       "      <td>65000000</td>\n",
       "      <td>[{\"\"id\"\": 12, \"\"name\"\": \"\"Adventure\"\"}, {\"\"id\"...</td>\n",
       "      <td>tt0113497</td>\n",
       "      <td>[{\"\"name\"\": \"\"TriStar Pictures\"\", \"\"id\"\": 559}...</td>\n",
       "      <td>[{\"\"iso_3166_1\"\": \"\"US\"\", \"\"name\"\": \"\"United S...</td>\n",
       "      <td>15/12/1995</td>\n",
       "    </tr>\n",
       "    <tr>\n",
       "      <th>2</th>\n",
       "      <td>0</td>\n",
       "      <td>[{\"\"id\"\": 10749, \"\"name\"\": \"\"Romance\"\"}, {\"\"id...</td>\n",
       "      <td>tt0113228</td>\n",
       "      <td>[{\"\"name\"\": \"\"Warner Bros.\"\", \"\"id\"\": 6194}, {...</td>\n",
       "      <td>[{\"\"iso_3166_1\"\": \"\"US\"\", \"\"name\"\": \"\"United S...</td>\n",
       "      <td>22/12/1995</td>\n",
       "    </tr>\n",
       "    <tr>\n",
       "      <th>3</th>\n",
       "      <td>16000000</td>\n",
       "      <td>[{\"\"id\"\": 35, \"\"name\"\": \"\"Comedy\"\"}, {\"\"id\"\": ...</td>\n",
       "      <td>tt0114885</td>\n",
       "      <td>[{\"\"name\"\": \"\"Twentieth Century Fox Film Corpo...</td>\n",
       "      <td>[{\"\"iso_3166_1\"\": \"\"US\"\", \"\"name\"\": \"\"United S...</td>\n",
       "      <td>22/12/1995</td>\n",
       "    </tr>\n",
       "    <tr>\n",
       "      <th>4</th>\n",
       "      <td>0</td>\n",
       "      <td>[{\"\"id\"\": 35, \"\"name\"\": \"\"Comedy\"\"}]</td>\n",
       "      <td>tt0113041</td>\n",
       "      <td>[{\"\"name\"\": \"\"Sandollar Productions\"\", \"\"id\"\":...</td>\n",
       "      <td>[{\"\"iso_3166_1\"\": \"\"US\"\", \"\"name\"\": \"\"United S...</td>\n",
       "      <td>10/02/1995</td>\n",
       "    </tr>\n",
       "    <tr>\n",
       "      <th>...</th>\n",
       "      <td>...</td>\n",
       "      <td>...</td>\n",
       "      <td>...</td>\n",
       "      <td>...</td>\n",
       "      <td>...</td>\n",
       "      <td>...</td>\n",
       "    </tr>\n",
       "    <tr>\n",
       "      <th>45458</th>\n",
       "      <td>0</td>\n",
       "      <td>[{\"\"id\"\": 18, \"\"name\"\": \"\"Drama\"\"}, {\"\"id\"\": 1...</td>\n",
       "      <td>tt6209470</td>\n",
       "      <td>[]</td>\n",
       "      <td>[{\"\"iso_3166_1\"\": \"\"IR\"\", \"\"name\"\": \"\"Iran\"\"}]</td>\n",
       "      <td>NaN</td>\n",
       "    </tr>\n",
       "    <tr>\n",
       "      <th>45459</th>\n",
       "      <td>0</td>\n",
       "      <td>[{\"\"id\"\": 18, \"\"name\"\": \"\"Drama\"\"}]</td>\n",
       "      <td>tt2028550</td>\n",
       "      <td>[{\"\"name\"\": \"\"Sine Olivia\"\", \"\"id\"\": 19653}]</td>\n",
       "      <td>[{\"\"iso_3166_1\"\": \"\"PH\"\", \"\"name\"\": \"\"Philippi...</td>\n",
       "      <td>17/11/2011</td>\n",
       "    </tr>\n",
       "    <tr>\n",
       "      <th>45460</th>\n",
       "      <td>0</td>\n",
       "      <td>[{\"\"id\"\": 28, \"\"name\"\": \"\"Action\"\"}, {\"\"id\"\": ...</td>\n",
       "      <td>tt0303758</td>\n",
       "      <td>[{\"\"name\"\": \"\"American World Pictures\"\", \"\"id\"...</td>\n",
       "      <td>[{\"\"iso_3166_1\"\": \"\"US\"\", \"\"name\"\": \"\"United S...</td>\n",
       "      <td>01/08/2003</td>\n",
       "    </tr>\n",
       "    <tr>\n",
       "      <th>45461</th>\n",
       "      <td>0</td>\n",
       "      <td>[]</td>\n",
       "      <td>tt0008536</td>\n",
       "      <td>[{\"\"name\"\": \"\"Yermoliev\"\", \"\"id\"\": 88753}]</td>\n",
       "      <td>[{\"\"iso_3166_1\"\": \"\"RU\"\", \"\"name\"\": \"\"Russia\"\"}]</td>\n",
       "      <td>21/10/1917</td>\n",
       "    </tr>\n",
       "    <tr>\n",
       "      <th>45462</th>\n",
       "      <td>0</td>\n",
       "      <td>[]</td>\n",
       "      <td>tt6980792</td>\n",
       "      <td>[]</td>\n",
       "      <td>[{\"\"iso_3166_1\"\": \"\"GB\"\", \"\"name\"\": \"\"United K...</td>\n",
       "      <td>09/06/2017</td>\n",
       "    </tr>\n",
       "  </tbody>\n",
       "</table>\n",
       "<p>45463 rows × 6 columns</p>\n",
       "</div>"
      ],
      "text/plain": [
       "         budget                                             genres    imdb_id  \\\n",
       "0      30000000  [{\"\"id\"\": 16, \"\"name\"\": \"\"Animation\"\"}, {\"\"id\"...  tt0114709   \n",
       "1      65000000  [{\"\"id\"\": 12, \"\"name\"\": \"\"Adventure\"\"}, {\"\"id\"...  tt0113497   \n",
       "2             0  [{\"\"id\"\": 10749, \"\"name\"\": \"\"Romance\"\"}, {\"\"id...  tt0113228   \n",
       "3      16000000  [{\"\"id\"\": 35, \"\"name\"\": \"\"Comedy\"\"}, {\"\"id\"\": ...  tt0114885   \n",
       "4             0               [{\"\"id\"\": 35, \"\"name\"\": \"\"Comedy\"\"}]  tt0113041   \n",
       "...         ...                                                ...        ...   \n",
       "45458         0  [{\"\"id\"\": 18, \"\"name\"\": \"\"Drama\"\"}, {\"\"id\"\": 1...  tt6209470   \n",
       "45459         0                [{\"\"id\"\": 18, \"\"name\"\": \"\"Drama\"\"}]  tt2028550   \n",
       "45460         0  [{\"\"id\"\": 28, \"\"name\"\": \"\"Action\"\"}, {\"\"id\"\": ...  tt0303758   \n",
       "45461         0                                                 []  tt0008536   \n",
       "45462         0                                                 []  tt6980792   \n",
       "\n",
       "                                    production_companies  \\\n",
       "0      [{\"\"name\"\": \"\"Pixar Animation Studios\"\", \"\"id\"...   \n",
       "1      [{\"\"name\"\": \"\"TriStar Pictures\"\", \"\"id\"\": 559}...   \n",
       "2      [{\"\"name\"\": \"\"Warner Bros.\"\", \"\"id\"\": 6194}, {...   \n",
       "3      [{\"\"name\"\": \"\"Twentieth Century Fox Film Corpo...   \n",
       "4      [{\"\"name\"\": \"\"Sandollar Productions\"\", \"\"id\"\":...   \n",
       "...                                                  ...   \n",
       "45458                                                 []   \n",
       "45459       [{\"\"name\"\": \"\"Sine Olivia\"\", \"\"id\"\": 19653}]   \n",
       "45460  [{\"\"name\"\": \"\"American World Pictures\"\", \"\"id\"...   \n",
       "45461         [{\"\"name\"\": \"\"Yermoliev\"\", \"\"id\"\": 88753}]   \n",
       "45462                                                 []   \n",
       "\n",
       "                                    production_countries release_date  \n",
       "0      [{\"\"iso_3166_1\"\": \"\"US\"\", \"\"name\"\": \"\"United S...   30/10/1995  \n",
       "1      [{\"\"iso_3166_1\"\": \"\"US\"\", \"\"name\"\": \"\"United S...   15/12/1995  \n",
       "2      [{\"\"iso_3166_1\"\": \"\"US\"\", \"\"name\"\": \"\"United S...   22/12/1995  \n",
       "3      [{\"\"iso_3166_1\"\": \"\"US\"\", \"\"name\"\": \"\"United S...   22/12/1995  \n",
       "4      [{\"\"iso_3166_1\"\": \"\"US\"\", \"\"name\"\": \"\"United S...   10/02/1995  \n",
       "...                                                  ...          ...  \n",
       "45458     [{\"\"iso_3166_1\"\": \"\"IR\"\", \"\"name\"\": \"\"Iran\"\"}]          NaN  \n",
       "45459  [{\"\"iso_3166_1\"\": \"\"PH\"\", \"\"name\"\": \"\"Philippi...   17/11/2011  \n",
       "45460  [{\"\"iso_3166_1\"\": \"\"US\"\", \"\"name\"\": \"\"United S...   01/08/2003  \n",
       "45461   [{\"\"iso_3166_1\"\": \"\"RU\"\", \"\"name\"\": \"\"Russia\"\"}]   21/10/1917  \n",
       "45462  [{\"\"iso_3166_1\"\": \"\"GB\"\", \"\"name\"\": \"\"United K...   09/06/2017  \n",
       "\n",
       "[45463 rows x 6 columns]"
      ]
     },
     "execution_count": 33,
     "metadata": {},
     "output_type": "execute_result"
    }
   ],
   "source": [
    "df['genres'] = df['genres'].str.replace(\"'\",'\"\"')\n",
    "df['production_companies'] = df['production_companies'].str.replace(\"'\",'\"\"')\n",
    "df['production_countries'] = df['production_countries'].str.replace(\"'\",'\"\"')\n",
    "df"
   ]
  },
  {
   "cell_type": "code",
   "execution_count": 129,
   "metadata": {},
   "outputs": [
    {
     "data": {
      "text/html": [
       "<div>\n",
       "<style scoped>\n",
       "    .dataframe tbody tr th:only-of-type {\n",
       "        vertical-align: middle;\n",
       "    }\n",
       "\n",
       "    .dataframe tbody tr th {\n",
       "        vertical-align: top;\n",
       "    }\n",
       "\n",
       "    .dataframe thead th {\n",
       "        text-align: right;\n",
       "    }\n",
       "</style>\n",
       "<table border=\"1\" class=\"dataframe\">\n",
       "  <thead>\n",
       "    <tr style=\"text-align: right;\">\n",
       "      <th></th>\n",
       "      <th>genres</th>\n",
       "    </tr>\n",
       "  </thead>\n",
       "  <tbody>\n",
       "    <tr>\n",
       "      <th>0</th>\n",
       "      <td>[{'id': 16, 'name': 'Animation'}, {'id': 35, '...</td>\n",
       "    </tr>\n",
       "    <tr>\n",
       "      <th>1</th>\n",
       "      <td>[{'id': 12, 'name': 'Adventure'}, {'id': 14, '...</td>\n",
       "    </tr>\n",
       "    <tr>\n",
       "      <th>2</th>\n",
       "      <td>[{'id': 10749, 'name': 'Romance'}, {'id': 35, ...</td>\n",
       "    </tr>\n",
       "    <tr>\n",
       "      <th>3</th>\n",
       "      <td>[{'id': 35, 'name': 'Comedy'}, {'id': 18, 'nam...</td>\n",
       "    </tr>\n",
       "    <tr>\n",
       "      <th>4</th>\n",
       "      <td>[{'id': 35, 'name': 'Comedy'}]</td>\n",
       "    </tr>\n",
       "    <tr>\n",
       "      <th>...</th>\n",
       "      <td>...</td>\n",
       "    </tr>\n",
       "    <tr>\n",
       "      <th>45458</th>\n",
       "      <td>[{'id': 18, 'name': 'Drama'}, {'id': 10751, 'n...</td>\n",
       "    </tr>\n",
       "    <tr>\n",
       "      <th>45459</th>\n",
       "      <td>[{'id': 18, 'name': 'Drama'}]</td>\n",
       "    </tr>\n",
       "    <tr>\n",
       "      <th>45460</th>\n",
       "      <td>[{'id': 28, 'name': 'Action'}, {'id': 18, 'nam...</td>\n",
       "    </tr>\n",
       "    <tr>\n",
       "      <th>45461</th>\n",
       "      <td>[]</td>\n",
       "    </tr>\n",
       "    <tr>\n",
       "      <th>45462</th>\n",
       "      <td>[]</td>\n",
       "    </tr>\n",
       "  </tbody>\n",
       "</table>\n",
       "<p>45463 rows × 1 columns</p>\n",
       "</div>"
      ],
      "text/plain": [
       "                                                  genres\n",
       "0      [{'id': 16, 'name': 'Animation'}, {'id': 35, '...\n",
       "1      [{'id': 12, 'name': 'Adventure'}, {'id': 14, '...\n",
       "2      [{'id': 10749, 'name': 'Romance'}, {'id': 35, ...\n",
       "3      [{'id': 35, 'name': 'Comedy'}, {'id': 18, 'nam...\n",
       "4                         [{'id': 35, 'name': 'Comedy'}]\n",
       "...                                                  ...\n",
       "45458  [{'id': 18, 'name': 'Drama'}, {'id': 10751, 'n...\n",
       "45459                      [{'id': 18, 'name': 'Drama'}]\n",
       "45460  [{'id': 28, 'name': 'Action'}, {'id': 18, 'nam...\n",
       "45461                                                 []\n",
       "45462                                                 []\n",
       "\n",
       "[45463 rows x 1 columns]"
      ]
     },
     "execution_count": 129,
     "metadata": {},
     "output_type": "execute_result"
    }
   ],
   "source": [
    "a = {'genres':'name'}\n",
    "\n",
    "b = list(a.values())\n",
    "df[[list(a.keys())[0]]]\n"
   ]
  },
  {
   "cell_type": "code",
   "execution_count": 138,
   "metadata": {},
   "outputs": [
    {
     "ename": "KeyError",
     "evalue": "\"None of [Index(['[{'id': 16, 'name': 'Animation'}, {'id': 35, 'name': 'Comedy'}, {'id': 10751, 'name': 'Family'}]'], dtype='object')] are in the [index]\"",
     "output_type": "error",
     "traceback": [
      "\u001b[0;31m---------------------------------------------------------------------------\u001b[0m",
      "\u001b[0;31mKeyError\u001b[0m                                  Traceback (most recent call last)",
      "\u001b[1;32m/Users/artemohotnikov/Documents/__code/__pet_projects/Movies_project/Movies_DB/archive/metadata_prep.ipynb Cell 6\u001b[0m in \u001b[0;36m<cell line: 1>\u001b[0;34m()\u001b[0m\n\u001b[1;32m      <a href='vscode-notebook-cell:/Users/artemohotnikov/Documents/__code/__pet_projects/Movies_project/Movies_DB/archive/metadata_prep.ipynb#X32sZmlsZQ%3D%3D?line=0'>1</a>\u001b[0m \u001b[39mfor\u001b[39;00m pair \u001b[39min\u001b[39;00m [{\u001b[39m'\u001b[39m\u001b[39mgenres\u001b[39m\u001b[39m'\u001b[39m:\u001b[39m'\u001b[39m\u001b[39mname\u001b[39m\u001b[39m'\u001b[39m}, {\u001b[39m'\u001b[39m\u001b[39mproduction_companies\u001b[39m\u001b[39m'\u001b[39m:\u001b[39m'\u001b[39m\u001b[39mname\u001b[39m\u001b[39m'\u001b[39m}, {\u001b[39m'\u001b[39m\u001b[39mproduction_countries\u001b[39m\u001b[39m'\u001b[39m:\u001b[39m'\u001b[39m\u001b[39miso_3166_1\u001b[39m\u001b[39m'\u001b[39m}]:\n\u001b[1;32m      <a href='vscode-notebook-cell:/Users/artemohotnikov/Documents/__code/__pet_projects/Movies_project/Movies_DB/archive/metadata_prep.ipynb#X32sZmlsZQ%3D%3D?line=1'>2</a>\u001b[0m     \u001b[39mfor\u001b[39;00m index, col \u001b[39min\u001b[39;00m df[[\u001b[39mlist\u001b[39m(pair\u001b[39m.\u001b[39mkeys())[\u001b[39m0\u001b[39m]]]\u001b[39m.\u001b[39miterrows():\n\u001b[0;32m----> <a href='vscode-notebook-cell:/Users/artemohotnikov/Documents/__code/__pet_projects/Movies_project/Movies_DB/archive/metadata_prep.ipynb#X32sZmlsZQ%3D%3D?line=2'>3</a>\u001b[0m         df\u001b[39m.\u001b[39mloc[index, col] \u001b[39m=\u001b[39m json\u001b[39m.\u001b[39mloads(df\u001b[39m.\u001b[39;49mloc[index, col]\u001b[39m.\u001b[39mreplace(\u001b[39m'\u001b[39m\u001b[39m\\'\u001b[39;00m\u001b[39m'\u001b[39m,\u001b[39m'\u001b[39m\u001b[39m\"\u001b[39m\u001b[39m'\u001b[39m))[\u001b[39m0\u001b[39m][\u001b[39mlist\u001b[39m(pair\u001b[39m.\u001b[39mvalues())[\u001b[39m0\u001b[39m]]\n",
      "File \u001b[0;32m~/.pyenv/versions/3.10.4/lib/python3.10/site-packages/pandas/core/indexing.py:961\u001b[0m, in \u001b[0;36m_LocationIndexer.__getitem__\u001b[0;34m(self, key)\u001b[0m\n\u001b[1;32m    959\u001b[0m     \u001b[39mif\u001b[39;00m \u001b[39mself\u001b[39m\u001b[39m.\u001b[39m_is_scalar_access(key):\n\u001b[1;32m    960\u001b[0m         \u001b[39mreturn\u001b[39;00m \u001b[39mself\u001b[39m\u001b[39m.\u001b[39mobj\u001b[39m.\u001b[39m_get_value(\u001b[39m*\u001b[39mkey, takeable\u001b[39m=\u001b[39m\u001b[39mself\u001b[39m\u001b[39m.\u001b[39m_takeable)\n\u001b[0;32m--> 961\u001b[0m     \u001b[39mreturn\u001b[39;00m \u001b[39mself\u001b[39;49m\u001b[39m.\u001b[39;49m_getitem_tuple(key)\n\u001b[1;32m    962\u001b[0m \u001b[39melse\u001b[39;00m:\n\u001b[1;32m    963\u001b[0m     \u001b[39m# we by definition only have the 0th axis\u001b[39;00m\n\u001b[1;32m    964\u001b[0m     axis \u001b[39m=\u001b[39m \u001b[39mself\u001b[39m\u001b[39m.\u001b[39maxis \u001b[39mor\u001b[39;00m \u001b[39m0\u001b[39m\n",
      "File \u001b[0;32m~/.pyenv/versions/3.10.4/lib/python3.10/site-packages/pandas/core/indexing.py:1140\u001b[0m, in \u001b[0;36m_LocIndexer._getitem_tuple\u001b[0;34m(self, tup)\u001b[0m\n\u001b[1;32m   1138\u001b[0m \u001b[39mwith\u001b[39;00m suppress(IndexingError):\n\u001b[1;32m   1139\u001b[0m     tup \u001b[39m=\u001b[39m \u001b[39mself\u001b[39m\u001b[39m.\u001b[39m_expand_ellipsis(tup)\n\u001b[0;32m-> 1140\u001b[0m     \u001b[39mreturn\u001b[39;00m \u001b[39mself\u001b[39;49m\u001b[39m.\u001b[39;49m_getitem_lowerdim(tup)\n\u001b[1;32m   1142\u001b[0m \u001b[39m# no multi-index, so validate all of the indexers\u001b[39;00m\n\u001b[1;32m   1143\u001b[0m tup \u001b[39m=\u001b[39m \u001b[39mself\u001b[39m\u001b[39m.\u001b[39m_validate_tuple_indexer(tup)\n",
      "File \u001b[0;32m~/.pyenv/versions/3.10.4/lib/python3.10/site-packages/pandas/core/indexing.py:891\u001b[0m, in \u001b[0;36m_LocationIndexer._getitem_lowerdim\u001b[0;34m(self, tup)\u001b[0m\n\u001b[1;32m    889\u001b[0m             \u001b[39mreturn\u001b[39;00m section\n\u001b[1;32m    890\u001b[0m         \u001b[39m# This is an elided recursive call to iloc/loc\u001b[39;00m\n\u001b[0;32m--> 891\u001b[0m         \u001b[39mreturn\u001b[39;00m \u001b[39mgetattr\u001b[39;49m(section, \u001b[39mself\u001b[39;49m\u001b[39m.\u001b[39;49mname)[new_key]\n\u001b[1;32m    893\u001b[0m \u001b[39mraise\u001b[39;00m IndexingError(\u001b[39m\"\u001b[39m\u001b[39mnot applicable\u001b[39m\u001b[39m\"\u001b[39m)\n",
      "File \u001b[0;32m~/.pyenv/versions/3.10.4/lib/python3.10/site-packages/pandas/core/indexing.py:967\u001b[0m, in \u001b[0;36m_LocationIndexer.__getitem__\u001b[0;34m(self, key)\u001b[0m\n\u001b[1;32m    964\u001b[0m axis \u001b[39m=\u001b[39m \u001b[39mself\u001b[39m\u001b[39m.\u001b[39maxis \u001b[39mor\u001b[39;00m \u001b[39m0\u001b[39m\n\u001b[1;32m    966\u001b[0m maybe_callable \u001b[39m=\u001b[39m com\u001b[39m.\u001b[39mapply_if_callable(key, \u001b[39mself\u001b[39m\u001b[39m.\u001b[39mobj)\n\u001b[0;32m--> 967\u001b[0m \u001b[39mreturn\u001b[39;00m \u001b[39mself\u001b[39;49m\u001b[39m.\u001b[39;49m_getitem_axis(maybe_callable, axis\u001b[39m=\u001b[39;49maxis)\n",
      "File \u001b[0;32m~/.pyenv/versions/3.10.4/lib/python3.10/site-packages/pandas/core/indexing.py:1191\u001b[0m, in \u001b[0;36m_LocIndexer._getitem_axis\u001b[0;34m(self, key, axis)\u001b[0m\n\u001b[1;32m   1188\u001b[0m     \u001b[39mif\u001b[39;00m \u001b[39mhasattr\u001b[39m(key, \u001b[39m\"\u001b[39m\u001b[39mndim\u001b[39m\u001b[39m\"\u001b[39m) \u001b[39mand\u001b[39;00m key\u001b[39m.\u001b[39mndim \u001b[39m>\u001b[39m \u001b[39m1\u001b[39m:\n\u001b[1;32m   1189\u001b[0m         \u001b[39mraise\u001b[39;00m \u001b[39mValueError\u001b[39;00m(\u001b[39m\"\u001b[39m\u001b[39mCannot index with multidimensional key\u001b[39m\u001b[39m\"\u001b[39m)\n\u001b[0;32m-> 1191\u001b[0m     \u001b[39mreturn\u001b[39;00m \u001b[39mself\u001b[39;49m\u001b[39m.\u001b[39;49m_getitem_iterable(key, axis\u001b[39m=\u001b[39;49maxis)\n\u001b[1;32m   1193\u001b[0m \u001b[39m# nested tuple slicing\u001b[39;00m\n\u001b[1;32m   1194\u001b[0m \u001b[39mif\u001b[39;00m is_nested_tuple(key, labels):\n",
      "File \u001b[0;32m~/.pyenv/versions/3.10.4/lib/python3.10/site-packages/pandas/core/indexing.py:1132\u001b[0m, in \u001b[0;36m_LocIndexer._getitem_iterable\u001b[0;34m(self, key, axis)\u001b[0m\n\u001b[1;32m   1129\u001b[0m \u001b[39mself\u001b[39m\u001b[39m.\u001b[39m_validate_key(key, axis)\n\u001b[1;32m   1131\u001b[0m \u001b[39m# A collection of keys\u001b[39;00m\n\u001b[0;32m-> 1132\u001b[0m keyarr, indexer \u001b[39m=\u001b[39m \u001b[39mself\u001b[39;49m\u001b[39m.\u001b[39;49m_get_listlike_indexer(key, axis)\n\u001b[1;32m   1133\u001b[0m \u001b[39mreturn\u001b[39;00m \u001b[39mself\u001b[39m\u001b[39m.\u001b[39mobj\u001b[39m.\u001b[39m_reindex_with_indexers(\n\u001b[1;32m   1134\u001b[0m     {axis: [keyarr, indexer]}, copy\u001b[39m=\u001b[39m\u001b[39mTrue\u001b[39;00m, allow_dups\u001b[39m=\u001b[39m\u001b[39mTrue\u001b[39;00m\n\u001b[1;32m   1135\u001b[0m )\n",
      "File \u001b[0;32m~/.pyenv/versions/3.10.4/lib/python3.10/site-packages/pandas/core/indexing.py:1327\u001b[0m, in \u001b[0;36m_LocIndexer._get_listlike_indexer\u001b[0;34m(self, key, axis)\u001b[0m\n\u001b[1;32m   1324\u001b[0m ax \u001b[39m=\u001b[39m \u001b[39mself\u001b[39m\u001b[39m.\u001b[39mobj\u001b[39m.\u001b[39m_get_axis(axis)\n\u001b[1;32m   1325\u001b[0m axis_name \u001b[39m=\u001b[39m \u001b[39mself\u001b[39m\u001b[39m.\u001b[39mobj\u001b[39m.\u001b[39m_get_axis_name(axis)\n\u001b[0;32m-> 1327\u001b[0m keyarr, indexer \u001b[39m=\u001b[39m ax\u001b[39m.\u001b[39;49m_get_indexer_strict(key, axis_name)\n\u001b[1;32m   1329\u001b[0m \u001b[39mreturn\u001b[39;00m keyarr, indexer\n",
      "File \u001b[0;32m~/.pyenv/versions/3.10.4/lib/python3.10/site-packages/pandas/core/indexes/base.py:5782\u001b[0m, in \u001b[0;36mIndex._get_indexer_strict\u001b[0;34m(self, key, axis_name)\u001b[0m\n\u001b[1;32m   5779\u001b[0m \u001b[39melse\u001b[39;00m:\n\u001b[1;32m   5780\u001b[0m     keyarr, indexer, new_indexer \u001b[39m=\u001b[39m \u001b[39mself\u001b[39m\u001b[39m.\u001b[39m_reindex_non_unique(keyarr)\n\u001b[0;32m-> 5782\u001b[0m \u001b[39mself\u001b[39;49m\u001b[39m.\u001b[39;49m_raise_if_missing(keyarr, indexer, axis_name)\n\u001b[1;32m   5784\u001b[0m keyarr \u001b[39m=\u001b[39m \u001b[39mself\u001b[39m\u001b[39m.\u001b[39mtake(indexer)\n\u001b[1;32m   5785\u001b[0m \u001b[39mif\u001b[39;00m \u001b[39misinstance\u001b[39m(key, Index):\n\u001b[1;32m   5786\u001b[0m     \u001b[39m# GH 42790 - Preserve name from an Index\u001b[39;00m\n",
      "File \u001b[0;32m~/.pyenv/versions/3.10.4/lib/python3.10/site-packages/pandas/core/indexes/base.py:5842\u001b[0m, in \u001b[0;36mIndex._raise_if_missing\u001b[0;34m(self, key, indexer, axis_name)\u001b[0m\n\u001b[1;32m   5840\u001b[0m     \u001b[39mif\u001b[39;00m use_interval_msg:\n\u001b[1;32m   5841\u001b[0m         key \u001b[39m=\u001b[39m \u001b[39mlist\u001b[39m(key)\n\u001b[0;32m-> 5842\u001b[0m     \u001b[39mraise\u001b[39;00m \u001b[39mKeyError\u001b[39;00m(\u001b[39mf\u001b[39m\u001b[39m\"\u001b[39m\u001b[39mNone of [\u001b[39m\u001b[39m{\u001b[39;00mkey\u001b[39m}\u001b[39;00m\u001b[39m] are in the [\u001b[39m\u001b[39m{\u001b[39;00maxis_name\u001b[39m}\u001b[39;00m\u001b[39m]\u001b[39m\u001b[39m\"\u001b[39m)\n\u001b[1;32m   5844\u001b[0m not_found \u001b[39m=\u001b[39m \u001b[39mlist\u001b[39m(ensure_index(key)[missing_mask\u001b[39m.\u001b[39mnonzero()[\u001b[39m0\u001b[39m]]\u001b[39m.\u001b[39munique())\n\u001b[1;32m   5845\u001b[0m \u001b[39mraise\u001b[39;00m \u001b[39mKeyError\u001b[39;00m(\u001b[39mf\u001b[39m\u001b[39m\"\u001b[39m\u001b[39m{\u001b[39;00mnot_found\u001b[39m}\u001b[39;00m\u001b[39m not in index\u001b[39m\u001b[39m\"\u001b[39m)\n",
      "\u001b[0;31mKeyError\u001b[0m: \"None of [Index(['[{'id': 16, 'name': 'Animation'}, {'id': 35, 'name': 'Comedy'}, {'id': 10751, 'name': 'Family'}]'], dtype='object')] are in the [index]\""
     ]
    }
   ],
   "source": [
    "for pair in [{'genres':'name'}, {'production_companies':'name'}, {'production_countries':'iso_3166_1'}]:\n",
    "    for index, col in df[[list(pair.keys())[0]]].iterrows():\n",
    "        df.loc[index, col] = json.loads(df.loc[index, col].replace('\\'','\"'))[0][list(pair.values())[0]]\n",
    "\n"
   ]
  },
  {
   "cell_type": "code",
   "execution_count": null,
   "metadata": {},
   "outputs": [],
   "source": [
    "for i in ['genres', 'production_companies', 'production_countries']:\n",
    "    for index, col in df[[col]].iterrows():\n",
    "        df[index, i] = json.loads(df.loc[index, i].replace('\\'','\"'))[0]\n"
   ]
  },
  {
   "cell_type": "code",
   "execution_count": 98,
   "metadata": {},
   "outputs": [
    {
     "data": {
      "text/plain": [
       "183"
      ]
     },
     "execution_count": 98,
     "metadata": {},
     "output_type": "execute_result"
    }
   ],
   "source": [
    "my_string = \"[{'name': 'Le Studio Canal+', 'id': 183}, {'name': 'Laurence Mark Productions', 'id': 415}, {'name': 'Metro-Goldwyn-Mayer (MGM)', 'id': 8411}, {'name': 'Carolco Pictures', 'id': 14723}]\"\n",
    "\n",
    "a = json.loads(my_string.replace('\\'','\"'))\n",
    "a[0]['id']"
   ]
  },
  {
   "cell_type": "code",
   "execution_count": 139,
   "metadata": {},
   "outputs": [
    {
     "data": {
      "text/plain": [
       "16"
      ]
     },
     "execution_count": 139,
     "metadata": {},
     "output_type": "execute_result"
    }
   ],
   "source": [
    "a = json.loads(df.loc[0,'genres'].replace('\\'','\"'))\n",
    "a[0]['id']"
   ]
  },
  {
   "cell_type": "code",
   "execution_count": 93,
   "metadata": {},
   "outputs": [
    {
     "data": {
      "text/plain": [
       "\"[{'name': 'Pixar Animation Studios', 'id': 3}]\""
      ]
     },
     "execution_count": 93,
     "metadata": {},
     "output_type": "execute_result"
    }
   ],
   "source": [
    "df.loc[0,'production_companies']"
   ]
  },
  {
   "cell_type": "code",
   "execution_count": null,
   "metadata": {},
   "outputs": [],
   "source": []
  },
  {
   "cell_type": "code",
   "execution_count": null,
   "metadata": {},
   "outputs": [],
   "source": []
  },
  {
   "cell_type": "code",
   "execution_count": null,
   "metadata": {},
   "outputs": [],
   "source": []
  },
  {
   "cell_type": "code",
   "execution_count": 157,
   "metadata": {},
   "outputs": [
    {
     "data": {
      "text/plain": [
       "'[{\"name\": \"Procirep\", \"id\": 311}, {\"name\": \"Constellation Productions\", \"id\": 590}, {\"name\": \"France 3 Cinéma\", \"id\": 591}, {\"name\": \"Claudie Ossard Productions\", \"id\": 592}, {\"name\": \"Eurimages\", \"id\": 850}, {\"name\": \"MEDIA Programme of the European Union\", \"id\": 851}, {\"name\": \"Cofimage 5\", \"id\": 1871}, {\"name\": \"Televisión Española (TVE)\", \"id\": 6639}, {\"name\": \"Tele München Fernseh Produktionsgesellschaft (TMG)\", \"id\": 7237}, {\"name\": \"Club d\"Investissement Média\", \"id\": 8170}, {\"name\": \"Canal+ España\", \"id\": 9335}, {\"name\": \"Elías Querejeta Producciones Cinematográficas S.L.\", \"id\": 12009}, {\"name\": \"Centre National de la Cinématographie (CNC)\", \"id\": 18367}, {\"name\": \"Victoires Productions\", \"id\": 25020}, {\"name\": \"Constellation\", \"id\": 25021}, {\"name\": \"Lumière Pictures\", \"id\": 25129}, {\"name\": \"Canal+\", \"id\": 47532}, {\"name\": \"Studio Image\", \"id\": 68517}, {\"name\": \"Cofimage 4\", \"id\": 79437}, {\"name\": \"Ossane\", \"id\": 79438}, {\"name\": \"Phoenix Images\", \"id\": 79439}]'"
      ]
     },
     "execution_count": 157,
     "metadata": {},
     "output_type": "execute_result"
    }
   ],
   "source": [
    "df.iloc[28,3].replace('\\'','\"')"
   ]
  },
  {
   "cell_type": "code",
   "execution_count": 141,
   "metadata": {},
   "outputs": [
    {
     "ename": "TypeError",
     "evalue": "the JSON object must be str, bytes or bytearray, not Series",
     "output_type": "error",
     "traceback": [
      "\u001b[0;31m---------------------------------------------------------------------------\u001b[0m",
      "\u001b[0;31mTypeError\u001b[0m                                 Traceback (most recent call last)",
      "\u001b[1;32m/Users/artemohotnikov/Documents/__code/__pet_projects/Movies_project/Movies_DB/archive/metadata_prep.ipynb Cell 11\u001b[0m in \u001b[0;36m<cell line: 9>\u001b[0;34m()\u001b[0m\n\u001b[1;32m      <a href='vscode-notebook-cell:/Users/artemohotnikov/Documents/__code/__pet_projects/Movies_project/Movies_DB/archive/metadata_prep.ipynb#X26sZmlsZQ%3D%3D?line=8'>9</a>\u001b[0m \u001b[39mfor\u001b[39;00m pair \u001b[39min\u001b[39;00m [{\u001b[39m'\u001b[39m\u001b[39mgenres\u001b[39m\u001b[39m'\u001b[39m:\u001b[39m'\u001b[39m\u001b[39mname\u001b[39m\u001b[39m'\u001b[39m}, {\u001b[39m'\u001b[39m\u001b[39mproduction_companies\u001b[39m\u001b[39m'\u001b[39m:\u001b[39m'\u001b[39m\u001b[39mname\u001b[39m\u001b[39m'\u001b[39m}, {\u001b[39m'\u001b[39m\u001b[39mproduction_countries\u001b[39m\u001b[39m'\u001b[39m:\u001b[39m'\u001b[39m\u001b[39miso_3166_1\u001b[39m\u001b[39m'\u001b[39m}]:\n\u001b[1;32m     <a href='vscode-notebook-cell:/Users/artemohotnikov/Documents/__code/__pet_projects/Movies_project/Movies_DB/archive/metadata_prep.ipynb#X26sZmlsZQ%3D%3D?line=9'>10</a>\u001b[0m     \u001b[39mfor\u001b[39;00m index, col \u001b[39min\u001b[39;00m df[[\u001b[39mlist\u001b[39m(pair\u001b[39m.\u001b[39mkeys())[\u001b[39m0\u001b[39m]]]\u001b[39m.\u001b[39miterrows():\n\u001b[0;32m---> <a href='vscode-notebook-cell:/Users/artemohotnikov/Documents/__code/__pet_projects/Movies_project/Movies_DB/archive/metadata_prep.ipynb#X26sZmlsZQ%3D%3D?line=10'>11</a>\u001b[0m         df\u001b[39m.\u001b[39mloc[index, \u001b[39mlist\u001b[39m(pair\u001b[39m.\u001b[39mkeys())[\u001b[39m0\u001b[39m]] \u001b[39m=\u001b[39m json\u001b[39m.\u001b[39;49mloads(col\u001b[39m.\u001b[39;49mreplace(\u001b[39m'\u001b[39;49m\u001b[39m\\'\u001b[39;49;00m\u001b[39m'\u001b[39;49m,\u001b[39m'\u001b[39;49m\u001b[39m\"\u001b[39;49m\u001b[39m'\u001b[39;49m))[\u001b[39m0\u001b[39m][\u001b[39mlist\u001b[39m(pair\u001b[39m.\u001b[39mvalues())[\u001b[39m0\u001b[39m]]\n\u001b[1;32m     <a href='vscode-notebook-cell:/Users/artemohotnikov/Documents/__code/__pet_projects/Movies_project/Movies_DB/archive/metadata_prep.ipynb#X26sZmlsZQ%3D%3D?line=12'>13</a>\u001b[0m df\n",
      "File \u001b[0;32m~/.pyenv/versions/3.10.4/lib/python3.10/json/__init__.py:339\u001b[0m, in \u001b[0;36mloads\u001b[0;34m(s, cls, object_hook, parse_float, parse_int, parse_constant, object_pairs_hook, **kw)\u001b[0m\n\u001b[1;32m    337\u001b[0m \u001b[39melse\u001b[39;00m:\n\u001b[1;32m    338\u001b[0m     \u001b[39mif\u001b[39;00m \u001b[39mnot\u001b[39;00m \u001b[39misinstance\u001b[39m(s, (\u001b[39mbytes\u001b[39m, \u001b[39mbytearray\u001b[39m)):\n\u001b[0;32m--> 339\u001b[0m         \u001b[39mraise\u001b[39;00m \u001b[39mTypeError\u001b[39;00m(\u001b[39mf\u001b[39m\u001b[39m'\u001b[39m\u001b[39mthe JSON object must be str, bytes or bytearray, \u001b[39m\u001b[39m'\u001b[39m\n\u001b[1;32m    340\u001b[0m                         \u001b[39mf\u001b[39m\u001b[39m'\u001b[39m\u001b[39mnot \u001b[39m\u001b[39m{\u001b[39;00ms\u001b[39m.\u001b[39m\u001b[39m__class__\u001b[39m\u001b[39m.\u001b[39m\u001b[39m__name__\u001b[39m\u001b[39m}\u001b[39;00m\u001b[39m'\u001b[39m)\n\u001b[1;32m    341\u001b[0m     s \u001b[39m=\u001b[39m s\u001b[39m.\u001b[39mdecode(detect_encoding(s), \u001b[39m'\u001b[39m\u001b[39msurrogatepass\u001b[39m\u001b[39m'\u001b[39m)\n\u001b[1;32m    343\u001b[0m \u001b[39mif\u001b[39;00m (\u001b[39mcls\u001b[39m \u001b[39mis\u001b[39;00m \u001b[39mNone\u001b[39;00m \u001b[39mand\u001b[39;00m object_hook \u001b[39mis\u001b[39;00m \u001b[39mNone\u001b[39;00m \u001b[39mand\u001b[39;00m\n\u001b[1;32m    344\u001b[0m         parse_int \u001b[39mis\u001b[39;00m \u001b[39mNone\u001b[39;00m \u001b[39mand\u001b[39;00m parse_float \u001b[39mis\u001b[39;00m \u001b[39mNone\u001b[39;00m \u001b[39mand\u001b[39;00m\n\u001b[1;32m    345\u001b[0m         parse_constant \u001b[39mis\u001b[39;00m \u001b[39mNone\u001b[39;00m \u001b[39mand\u001b[39;00m object_pairs_hook \u001b[39mis\u001b[39;00m \u001b[39mNone\u001b[39;00m \u001b[39mand\u001b[39;00m \u001b[39mnot\u001b[39;00m kw):\n",
      "\u001b[0;31mTypeError\u001b[0m: the JSON object must be str, bytes or bytearray, not Series"
     ]
    }
   ],
   "source": [
    "import numpy as np\n",
    "import pandas as pd\n",
    "import json\n",
    "\n",
    "df = pd.read_csv('/Users/artemohotnikov/Documents/__code/__pet_projects/Movies_project/Movies_DB/archive/movies_metadata.csv', sep=',')\n",
    "\n",
    "df = df[['budget', 'genres', 'imdb_id', 'production_companies', 'production_countries', 'release_date']]\n",
    "\n",
    "for pair in [{'genres':'name'}, {'production_companies':'name'}, {'production_countries':'iso_3166_1'}]:\n",
    "    for index, col in df[[list(pair.keys())[0]]].iterrows():\n",
    "        if df.loc[index, list(pair.keys())[0]] == []:\n",
    "            pass\n",
    "        else:\n",
    "            df.loc[index, list(pair.keys())[0]] = json.loads(df.loc[index, list(pair.keys())[0]].replace('\\'','\"'))[0][list(pair.values())[0]]\n",
    "\n",
    "df"
   ]
  },
  {
   "cell_type": "code",
   "execution_count": null,
   "metadata": {},
   "outputs": [],
   "source": []
  },
  {
   "cell_type": "code",
   "execution_count": null,
   "metadata": {},
   "outputs": [],
   "source": []
  },
  {
   "cell_type": "code",
   "execution_count": null,
   "metadata": {},
   "outputs": [],
   "source": []
  },
  {
   "cell_type": "code",
   "execution_count": null,
   "metadata": {},
   "outputs": [],
   "source": []
  },
  {
   "cell_type": "code",
   "execution_count": null,
   "metadata": {},
   "outputs": [],
   "source": [
    "for col in ['genres', 'production_companies', 'production_countries']:\n",
    "    for index, row in df[[col]].iterrows():\n",
    "        df.loc[index, [col]] = df.loc[index, ['genres', 'production_companies', 'production_countries']]"
   ]
  },
  {
   "cell_type": "code",
   "execution_count": 78,
   "metadata": {},
   "outputs": [
    {
     "ename": "JSONDecodeError",
     "evalue": "Expecting ',' delimiter: line 1 column 452 (char 451)",
     "output_type": "error",
     "traceback": [
      "\u001b[0;31m---------------------------------------------------------------------------\u001b[0m",
      "\u001b[0;31mJSONDecodeError\u001b[0m                           Traceback (most recent call last)",
      "\u001b[1;32m/Users/artemohotnikov/Documents/__code/__pet_projects/Movies_project/Movies_DB/archive/metadata_prep.ipynb Cell 5\u001b[0m in \u001b[0;36m<cell line: 1>\u001b[0;34m()\u001b[0m\n\u001b[1;32m      <a href='vscode-notebook-cell:/Users/artemohotnikov/Documents/__code/__pet_projects/Movies_project/Movies_DB/archive/metadata_prep.ipynb#X21sZmlsZQ%3D%3D?line=0'>1</a>\u001b[0m \u001b[39mfor\u001b[39;00m col \u001b[39min\u001b[39;00m [\u001b[39m'\u001b[39m\u001b[39mgenres\u001b[39m\u001b[39m'\u001b[39m, \u001b[39m'\u001b[39m\u001b[39mproduction_companies\u001b[39m\u001b[39m'\u001b[39m, \u001b[39m'\u001b[39m\u001b[39mproduction_countries\u001b[39m\u001b[39m'\u001b[39m]:\n\u001b[1;32m      <a href='vscode-notebook-cell:/Users/artemohotnikov/Documents/__code/__pet_projects/Movies_project/Movies_DB/archive/metadata_prep.ipynb#X21sZmlsZQ%3D%3D?line=1'>2</a>\u001b[0m     \u001b[39mfor\u001b[39;00m index, row \u001b[39min\u001b[39;00m df[[col]]\u001b[39m.\u001b[39miterrows():\n\u001b[0;32m----> <a href='vscode-notebook-cell:/Users/artemohotnikov/Documents/__code/__pet_projects/Movies_project/Movies_DB/archive/metadata_prep.ipynb#X21sZmlsZQ%3D%3D?line=2'>3</a>\u001b[0m         df\u001b[39m.\u001b[39mloc[index, col] \u001b[39m=\u001b[39m json\u001b[39m.\u001b[39mdumps(json\u001b[39m.\u001b[39;49mloads(df\u001b[39m.\u001b[39;49mloc[index, col]\u001b[39m.\u001b[39;49mreplace(\u001b[39m'\u001b[39;49m\u001b[39m\\'\u001b[39;49;00m\u001b[39m'\u001b[39;49m,\u001b[39m'\u001b[39;49m\u001b[39m\"\u001b[39;49m\u001b[39m'\u001b[39;49m)))\n",
      "File \u001b[0;32m~/.pyenv/versions/3.10.4/lib/python3.10/json/__init__.py:346\u001b[0m, in \u001b[0;36mloads\u001b[0;34m(s, cls, object_hook, parse_float, parse_int, parse_constant, object_pairs_hook, **kw)\u001b[0m\n\u001b[1;32m    341\u001b[0m     s \u001b[39m=\u001b[39m s\u001b[39m.\u001b[39mdecode(detect_encoding(s), \u001b[39m'\u001b[39m\u001b[39msurrogatepass\u001b[39m\u001b[39m'\u001b[39m)\n\u001b[1;32m    343\u001b[0m \u001b[39mif\u001b[39;00m (\u001b[39mcls\u001b[39m \u001b[39mis\u001b[39;00m \u001b[39mNone\u001b[39;00m \u001b[39mand\u001b[39;00m object_hook \u001b[39mis\u001b[39;00m \u001b[39mNone\u001b[39;00m \u001b[39mand\u001b[39;00m\n\u001b[1;32m    344\u001b[0m         parse_int \u001b[39mis\u001b[39;00m \u001b[39mNone\u001b[39;00m \u001b[39mand\u001b[39;00m parse_float \u001b[39mis\u001b[39;00m \u001b[39mNone\u001b[39;00m \u001b[39mand\u001b[39;00m\n\u001b[1;32m    345\u001b[0m         parse_constant \u001b[39mis\u001b[39;00m \u001b[39mNone\u001b[39;00m \u001b[39mand\u001b[39;00m object_pairs_hook \u001b[39mis\u001b[39;00m \u001b[39mNone\u001b[39;00m \u001b[39mand\u001b[39;00m \u001b[39mnot\u001b[39;00m kw):\n\u001b[0;32m--> 346\u001b[0m     \u001b[39mreturn\u001b[39;00m _default_decoder\u001b[39m.\u001b[39;49mdecode(s)\n\u001b[1;32m    347\u001b[0m \u001b[39mif\u001b[39;00m \u001b[39mcls\u001b[39m \u001b[39mis\u001b[39;00m \u001b[39mNone\u001b[39;00m:\n\u001b[1;32m    348\u001b[0m     \u001b[39mcls\u001b[39m \u001b[39m=\u001b[39m JSONDecoder\n",
      "File \u001b[0;32m~/.pyenv/versions/3.10.4/lib/python3.10/json/decoder.py:337\u001b[0m, in \u001b[0;36mJSONDecoder.decode\u001b[0;34m(self, s, _w)\u001b[0m\n\u001b[1;32m    332\u001b[0m \u001b[39mdef\u001b[39;00m \u001b[39mdecode\u001b[39m(\u001b[39mself\u001b[39m, s, _w\u001b[39m=\u001b[39mWHITESPACE\u001b[39m.\u001b[39mmatch):\n\u001b[1;32m    333\u001b[0m     \u001b[39m\"\"\"Return the Python representation of ``s`` (a ``str`` instance\u001b[39;00m\n\u001b[1;32m    334\u001b[0m \u001b[39m    containing a JSON document).\u001b[39;00m\n\u001b[1;32m    335\u001b[0m \n\u001b[1;32m    336\u001b[0m \u001b[39m    \"\"\"\u001b[39;00m\n\u001b[0;32m--> 337\u001b[0m     obj, end \u001b[39m=\u001b[39m \u001b[39mself\u001b[39;49m\u001b[39m.\u001b[39;49mraw_decode(s, idx\u001b[39m=\u001b[39;49m_w(s, \u001b[39m0\u001b[39;49m)\u001b[39m.\u001b[39;49mend())\n\u001b[1;32m    338\u001b[0m     end \u001b[39m=\u001b[39m _w(s, end)\u001b[39m.\u001b[39mend()\n\u001b[1;32m    339\u001b[0m     \u001b[39mif\u001b[39;00m end \u001b[39m!=\u001b[39m \u001b[39mlen\u001b[39m(s):\n",
      "File \u001b[0;32m~/.pyenv/versions/3.10.4/lib/python3.10/json/decoder.py:353\u001b[0m, in \u001b[0;36mJSONDecoder.raw_decode\u001b[0;34m(self, s, idx)\u001b[0m\n\u001b[1;32m    344\u001b[0m \u001b[39m\"\"\"Decode a JSON document from ``s`` (a ``str`` beginning with\u001b[39;00m\n\u001b[1;32m    345\u001b[0m \u001b[39ma JSON document) and return a 2-tuple of the Python\u001b[39;00m\n\u001b[1;32m    346\u001b[0m \u001b[39mrepresentation and the index in ``s`` where the document ended.\u001b[39;00m\n\u001b[0;32m   (...)\u001b[0m\n\u001b[1;32m    350\u001b[0m \n\u001b[1;32m    351\u001b[0m \u001b[39m\"\"\"\u001b[39;00m\n\u001b[1;32m    352\u001b[0m \u001b[39mtry\u001b[39;00m:\n\u001b[0;32m--> 353\u001b[0m     obj, end \u001b[39m=\u001b[39m \u001b[39mself\u001b[39;49m\u001b[39m.\u001b[39;49mscan_once(s, idx)\n\u001b[1;32m    354\u001b[0m \u001b[39mexcept\u001b[39;00m \u001b[39mStopIteration\u001b[39;00m \u001b[39mas\u001b[39;00m err:\n\u001b[1;32m    355\u001b[0m     \u001b[39mraise\u001b[39;00m JSONDecodeError(\u001b[39m\"\u001b[39m\u001b[39mExpecting value\u001b[39m\u001b[39m\"\u001b[39m, s, err\u001b[39m.\u001b[39mvalue) \u001b[39mfrom\u001b[39;00m \u001b[39mNone\u001b[39m\n",
      "\u001b[0;31mJSONDecodeError\u001b[0m: Expecting ',' delimiter: line 1 column 452 (char 451)"
     ]
    }
   ],
   "source": [
    "for col in ['genres', 'production_companies', 'production_countries']:\n",
    "    for index, row in df[[col]].iterrows():\n",
    "        df.loc[index, col] = json.dumps(json.loads(df.loc[index, col].replace('\\'','\"')))"
   ]
  },
  {
   "cell_type": "code",
   "execution_count": 86,
   "metadata": {},
   "outputs": [
    {
     "name": "stdout",
     "output_type": "stream",
     "text": [
      "<class 'str'>\n"
     ]
    }
   ],
   "source": [
    "a = json.dumps(json.loads(df.loc[0,'genres'].replace('\\'','\"')))\n",
    "print(type(a))"
   ]
  },
  {
   "cell_type": "code",
   "execution_count": 74,
   "metadata": {},
   "outputs": [
    {
     "ename": "TypeError",
     "evalue": "the JSON object must be str, bytes or bytearray, not ndarray",
     "output_type": "error",
     "traceback": [
      "\u001b[0;31m---------------------------------------------------------------------------\u001b[0m",
      "\u001b[0;31mTypeError\u001b[0m                                 Traceback (most recent call last)",
      "\u001b[1;32m/Users/artemohotnikov/Documents/__code/__pet_projects/Movies_project/Movies_DB/archive/metadata_prep.ipynb Cell 6\u001b[0m in \u001b[0;36m<cell line: 1>\u001b[0;34m()\u001b[0m\n\u001b[0;32m----> <a href='vscode-notebook-cell:/Users/artemohotnikov/Documents/__code/__pet_projects/Movies_project/Movies_DB/archive/metadata_prep.ipynb#X16sZmlsZQ%3D%3D?line=0'>1</a>\u001b[0m json\u001b[39m.\u001b[39mdumps(json\u001b[39m.\u001b[39;49mloads(df\u001b[39m.\u001b[39;49mloc[\u001b[39m0\u001b[39;49m,[\u001b[39m'\u001b[39;49m\u001b[39mproduction_countries\u001b[39;49m\u001b[39m'\u001b[39;49m]]\u001b[39m.\u001b[39;49mvalues))\n",
      "File \u001b[0;32m~/.pyenv/versions/3.10.4/lib/python3.10/json/__init__.py:339\u001b[0m, in \u001b[0;36mloads\u001b[0;34m(s, cls, object_hook, parse_float, parse_int, parse_constant, object_pairs_hook, **kw)\u001b[0m\n\u001b[1;32m    337\u001b[0m \u001b[39melse\u001b[39;00m:\n\u001b[1;32m    338\u001b[0m     \u001b[39mif\u001b[39;00m \u001b[39mnot\u001b[39;00m \u001b[39misinstance\u001b[39m(s, (\u001b[39mbytes\u001b[39m, \u001b[39mbytearray\u001b[39m)):\n\u001b[0;32m--> 339\u001b[0m         \u001b[39mraise\u001b[39;00m \u001b[39mTypeError\u001b[39;00m(\u001b[39mf\u001b[39m\u001b[39m'\u001b[39m\u001b[39mthe JSON object must be str, bytes or bytearray, \u001b[39m\u001b[39m'\u001b[39m\n\u001b[1;32m    340\u001b[0m                         \u001b[39mf\u001b[39m\u001b[39m'\u001b[39m\u001b[39mnot \u001b[39m\u001b[39m{\u001b[39;00ms\u001b[39m.\u001b[39m\u001b[39m__class__\u001b[39m\u001b[39m.\u001b[39m\u001b[39m__name__\u001b[39m\u001b[39m}\u001b[39;00m\u001b[39m'\u001b[39m)\n\u001b[1;32m    341\u001b[0m     s \u001b[39m=\u001b[39m s\u001b[39m.\u001b[39mdecode(detect_encoding(s), \u001b[39m'\u001b[39m\u001b[39msurrogatepass\u001b[39m\u001b[39m'\u001b[39m)\n\u001b[1;32m    343\u001b[0m \u001b[39mif\u001b[39;00m (\u001b[39mcls\u001b[39m \u001b[39mis\u001b[39;00m \u001b[39mNone\u001b[39;00m \u001b[39mand\u001b[39;00m object_hook \u001b[39mis\u001b[39;00m \u001b[39mNone\u001b[39;00m \u001b[39mand\u001b[39;00m\n\u001b[1;32m    344\u001b[0m         parse_int \u001b[39mis\u001b[39;00m \u001b[39mNone\u001b[39;00m \u001b[39mand\u001b[39;00m parse_float \u001b[39mis\u001b[39;00m \u001b[39mNone\u001b[39;00m \u001b[39mand\u001b[39;00m\n\u001b[1;32m    345\u001b[0m         parse_constant \u001b[39mis\u001b[39;00m \u001b[39mNone\u001b[39;00m \u001b[39mand\u001b[39;00m object_pairs_hook \u001b[39mis\u001b[39;00m \u001b[39mNone\u001b[39;00m \u001b[39mand\u001b[39;00m \u001b[39mnot\u001b[39;00m kw):\n",
      "\u001b[0;31mTypeError\u001b[0m: the JSON object must be str, bytes or bytearray, not ndarray"
     ]
    }
   ],
   "source": [
    "json.dumps(json.loads(df.loc[0,['production_countries']].values))"
   ]
  },
  {
   "cell_type": "code",
   "execution_count": 73,
   "metadata": {},
   "outputs": [
    {
     "data": {
      "text/plain": [
       "array([\"[{'iso_3166_1': 'US', 'name': 'United States of America'}]\"],\n",
       "      dtype=object)"
      ]
     },
     "execution_count": 73,
     "metadata": {},
     "output_type": "execute_result"
    }
   ],
   "source": [
    "df.loc[0,['production_countries']].values"
   ]
  }
 ],
 "metadata": {
  "kernelspec": {
   "display_name": "Python 3",
   "language": "python",
   "name": "python3"
  },
  "language_info": {
   "codemirror_mode": {
    "name": "ipython",
    "version": 3
   },
   "file_extension": ".py",
   "mimetype": "text/x-python",
   "name": "python",
   "nbconvert_exporter": "python",
   "pygments_lexer": "ipython3",
   "version": "3.10.4 (main, Jun 24 2022, 21:13:43) [Clang 13.1.6 (clang-1316.0.21.2.5)]"
  },
  "orig_nbformat": 4,
  "vscode": {
   "interpreter": {
    "hash": "dd4822ff42f03d3f2e69d0ca2a20c477ab6427c7b8e534f0d26f388d8d672c5b"
   }
  }
 },
 "nbformat": 4,
 "nbformat_minor": 2
}
